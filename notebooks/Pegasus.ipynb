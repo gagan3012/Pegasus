{
 "cells": [
  {
   "cell_type": "markdown",
   "metadata": {
    "colab_type": "text",
    "id": "view-in-github"
   },
   "source": [
    "<a href=\"https://colab.research.google.com/github/gagan3012/Pegasus/blob/master/notebooks/Pegasus.ipynb\" target=\"_parent\"><img src=\"https://colab.research.google.com/assets/colab-badge.svg\" alt=\"Open In Colab\"/></a>"
   ]
  },
  {
   "cell_type": "code",
   "execution_count": null,
   "metadata": {
    "colab": {
     "base_uri": "https://localhost:8080/"
    },
    "id": "koGy_XkIyrNO",
    "outputId": "c99e57b2-38bd-4306-8849-8611bce73e07"
   },
   "outputs": [],
   "source": [
    "!pip install transformers SentencePiece newspaper3k==0.2.8"
   ]
  },
  {
   "cell_type": "code",
   "execution_count": null,
   "metadata": {
    "id": "HwNv9A0ayz6_"
   },
   "outputs": [],
   "source": [
    "from transformers import PegasusForConditionalGeneration, PegasusTokenizer\n",
    "import torch\n",
    "\n",
    "from pprint import pprint"
   ]
  },
  {
   "cell_type": "code",
   "execution_count": null,
   "metadata": {
    "id": "RoEZ6lppesBh"
   },
   "outputs": [],
   "source": [
    "device = 'cuda' if torch.cuda.is_available() else 'cpu'\n",
    "tokenizer = PegasusTokenizer.from_pretrained('google/pegasus-large')\n",
    "model = PegasusForConditionalGeneration.from_pretrained('google/pegasus-large').to(device)"
   ]
  },
  {
   "cell_type": "code",
   "execution_count": null,
   "metadata": {
    "id": "wxJSHxJkEfwd"
   },
   "outputs": [],
   "source": [
    "def pegasus(text):\n",
    "  src_text = [text]\n",
    "  batch = tokenizer(src_text, truncation=True, padding='longest', return_tensors=\"pt\").to(device)\n",
    "  translated = model.generate(**batch)\n",
    "  tgt_text = tokenizer.batch_decode(translated, skip_special_tokens=True)\n",
    "  print(\"Orignal text:\")\n",
    "  pprint(src_text)\n",
    "  print(\"Summary:\")\n",
    "  pprint(tgt_text)\n",
    "  return tgt_text[0]"
   ]
  },
  {
   "cell_type": "code",
   "execution_count": null,
   "metadata": {
    "colab": {
     "base_uri": "https://localhost:8080/",
     "height": 1000
    },
    "id": "olzxPCD8JU3Z",
    "outputId": "73cfb102-4ad8-4146-8039-7e56ac3e18db"
   },
   "outputs": [],
   "source": [
    "import pandas as pd\n",
    "df = pd.read_csv(\"/content/new_articles.csv\")\n",
    "df"
   ]
  },
  {
   "cell_type": "code",
   "execution_count": null,
   "metadata": {
    "colab": {
     "base_uri": "https://localhost:8080/"
    },
    "id": "pThr3qYpDW86",
    "outputId": "6fb02f98-479b-4162-92d2-69b4f8d86104"
   },
   "outputs": [],
   "source": [
    "df['Summary'] = df.apply(lambda row : pegasus(row['content']), axis = 1)"
   ]
  },
  {
   "cell_type": "code",
   "execution_count": null,
   "metadata": {
    "colab": {
     "base_uri": "https://localhost:8080/",
     "height": 824
    },
    "id": "f4Zk4TRPfLa0",
    "outputId": "64816168-8415-4e20-df85-693f45c7fea2"
   },
   "outputs": [],
   "source": [
    "df[['title','content','Summary']]"
   ]
  },
  {
   "cell_type": "code",
   "execution_count": null,
   "metadata": {
    "id": "9VHDvDmRgU59"
   },
   "outputs": [],
   "source": [
    "df.to_csv(\"/content/article_summary.csv\")"
   ]
  },
  {
   "cell_type": "code",
   "execution_count": null,
   "metadata": {
    "id": "zEIRmiczkslq"
   },
   "outputs": [],
   "source": []
  }
 ],
 "metadata": {
  "accelerator": "GPU",
  "colab": {
   "include_colab_link": true,
   "name": "Pegasus.ipynb",
   "provenance": []
  },
  "kernelspec": {
   "display_name": "Python 3",
   "name": "python3"
  },
  "language_info": {
   "name": "python"
  }
 },
 "nbformat": 4,
 "nbformat_minor": 0
}
